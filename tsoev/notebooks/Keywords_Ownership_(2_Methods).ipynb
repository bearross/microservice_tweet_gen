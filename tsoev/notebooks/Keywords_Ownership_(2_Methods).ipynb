{
  "nbformat": 4,
  "nbformat_minor": 0,
  "metadata": {
    "colab": {
      "name": "Keywords Ownership (2 Methods).ipynb",
      "provenance": [],
      "collapsed_sections": [],
      "toc_visible": true
    },
    "kernelspec": {
      "name": "python3",
      "display_name": "Python 3"
    }
  },
  "cells": [
    {
      "cell_type": "markdown",
      "metadata": {
        "id": "s838c2RhR3xf"
      },
      "source": [
        "# Method 1 - Based on Ranking Position"
      ]
    },
    {
      "cell_type": "code",
      "metadata": {
        "id": "AsrzmuLEQ6mg"
      },
      "source": [
        "df = pd.read_csv('semrush file.csv')\n",
        "df.head(3)"
      ],
      "execution_count": null,
      "outputs": []
    },
    {
      "cell_type": "code",
      "metadata": {
        "id": "bgk2p__MQ8QX"
      },
      "source": [
        "index_list=[]\n",
        "for kw in df['Keyword'].unique():\n",
        "    if df['Keyword'].tolist().count(kw)==1:\n",
        "        index = df[df['Keyword']==kw].index[0]\n",
        "        index_list.append(index)\n",
        "    else:\n",
        "        index = df[df['Keyword']==kw].sort_values(by='Position').index[0]\n",
        "        index_list.append(index)\n",
        "\n",
        "result_df = df[df.index.isin(index_list)]"
      ],
      "execution_count": null,
      "outputs": []
    },
    {
      "cell_type": "markdown",
      "metadata": {
        "id": "kpRaanQa3gh8"
      },
      "source": [
        "# Method 2 - Based on Keyword Ownership Score"
      ]
    },
    {
      "cell_type": "code",
      "metadata": {
        "id": "quWAVKedu_qk",
        "colab": {
          "base_uri": "https://localhost:8080/",
          "height": 195
        },
        "outputId": "77deb33b-2a54-4481-b384-8f0df4030573"
      },
      "source": [
        "df = pd.read_csv('Dataset for Keyword Ownership.csv')\n",
        "newdf = df[['Keyword','URL','Position','Traffic','PA']]\n",
        "newdf.head()"
      ],
      "execution_count": null,
      "outputs": [
        {
          "output_type": "execute_result",
          "data": {
            "text/html": [
              "<div>\n",
              "<style scoped>\n",
              "    .dataframe tbody tr th:only-of-type {\n",
              "        vertical-align: middle;\n",
              "    }\n",
              "\n",
              "    .dataframe tbody tr th {\n",
              "        vertical-align: top;\n",
              "    }\n",
              "\n",
              "    .dataframe thead th {\n",
              "        text-align: right;\n",
              "    }\n",
              "</style>\n",
              "<table border=\"1\" class=\"dataframe\">\n",
              "  <thead>\n",
              "    <tr style=\"text-align: right;\">\n",
              "      <th></th>\n",
              "      <th>Keyword</th>\n",
              "      <th>URL</th>\n",
              "      <th>Position</th>\n",
              "      <th>Traffic</th>\n",
              "      <th>PA</th>\n",
              "    </tr>\n",
              "  </thead>\n",
              "  <tbody>\n",
              "    <tr>\n",
              "      <th>0</th>\n",
              "      <td>url profiler</td>\n",
              "      <td>https://ipullrank.com/how-to-run-screaming-fro...</td>\n",
              "      <td>25</td>\n",
              "      <td>0</td>\n",
              "      <td>39</td>\n",
              "    </tr>\n",
              "    <tr>\n",
              "      <th>1</th>\n",
              "      <td>url profiler</td>\n",
              "      <td>https://ipullrank.com/9-problems-with-content-...</td>\n",
              "      <td>26</td>\n",
              "      <td>0</td>\n",
              "      <td>26</td>\n",
              "    </tr>\n",
              "    <tr>\n",
              "      <th>2</th>\n",
              "      <td>king agency</td>\n",
              "      <td>https://ipullrank.com/</td>\n",
              "      <td>71</td>\n",
              "      <td>0</td>\n",
              "      <td>47</td>\n",
              "    </tr>\n",
              "    <tr>\n",
              "      <th>3</th>\n",
              "      <td>king agency</td>\n",
              "      <td>https://ipullrank.com/about-us/</td>\n",
              "      <td>72</td>\n",
              "      <td>0</td>\n",
              "      <td>40</td>\n",
              "    </tr>\n",
              "    <tr>\n",
              "      <th>4</th>\n",
              "      <td>machine learning chat bots</td>\n",
              "      <td>https://ipullrank.com/machine-learning-guide/h...</td>\n",
              "      <td>20</td>\n",
              "      <td>0</td>\n",
              "      <td>26</td>\n",
              "    </tr>\n",
              "  </tbody>\n",
              "</table>\n",
              "</div>"
            ],
            "text/plain": [
              "                      Keyword  ...  PA\n",
              "0                url profiler  ...  39\n",
              "1                url profiler  ...  26\n",
              "2                 king agency  ...  47\n",
              "3                 king agency  ...  40\n",
              "4  machine learning chat bots  ...  26\n",
              "\n",
              "[5 rows x 5 columns]"
            ]
          },
          "metadata": {
            "tags": []
          },
          "execution_count": 213
        }
      ]
    },
    {
      "cell_type": "markdown",
      "metadata": {
        "id": "0C1sIKBK1maE"
      },
      "source": [
        "Step 1 : Generate expectations"
      ]
    },
    {
      "cell_type": "code",
      "metadata": {
        "id": "l2mFjhQBvAu_",
        "colab": {
          "base_uri": "https://localhost:8080/",
          "height": 302
        },
        "outputId": "ab5958d7-f86c-4002-8bd8-d2c308626300"
      },
      "source": [
        "for kw in newdf['Keyword'].unique():\n",
        "\n",
        "    subdf = newdf[newdf['Keyword']==kw]\n",
        "\n",
        "    for col in ['Position','Traffic','PA']: # used to be Search Vol, Keyword Difficulty, PA\n",
        "        \n",
        "        mean=subdf[col].mean()\n",
        "        if mean != 0:\n",
        "          values=[]\n",
        "          if col == 'Position':\n",
        "              for i in subdf.index:\n",
        "                  values.append(1-subdf[col][i]/mean)\n",
        "          else:\n",
        "              for i in subdf.index:\n",
        "                  values.append(subdf[col][i]/mean)\n",
        "          \n",
        "          index = subdf.index.tolist()\n",
        "          newdf.loc[index, '% of Avg '+col] = values\n",
        "        else:\n",
        "          newdf['% of Avg '+col] = [0]*len(newdf)"
      ],
      "execution_count": null,
      "outputs": [
        {
          "output_type": "stream",
          "text": [
            "/usr/local/lib/python3.6/dist-packages/pandas/core/indexing.py:845: SettingWithCopyWarning: \n",
            "A value is trying to be set on a copy of a slice from a DataFrame.\n",
            "Try using .loc[row_indexer,col_indexer] = value instead\n",
            "\n",
            "See the caveats in the documentation: https://pandas.pydata.org/pandas-docs/stable/user_guide/indexing.html#returning-a-view-versus-a-copy\n",
            "  self.obj[key] = _infer_fill_value(value)\n",
            "/usr/local/lib/python3.6/dist-packages/pandas/core/indexing.py:966: SettingWithCopyWarning: \n",
            "A value is trying to be set on a copy of a slice from a DataFrame.\n",
            "Try using .loc[row_indexer,col_indexer] = value instead\n",
            "\n",
            "See the caveats in the documentation: https://pandas.pydata.org/pandas-docs/stable/user_guide/indexing.html#returning-a-view-versus-a-copy\n",
            "  self.obj[item] = s\n",
            "/usr/local/lib/python3.6/dist-packages/ipykernel_launcher.py:20: SettingWithCopyWarning: \n",
            "A value is trying to be set on a copy of a slice from a DataFrame.\n",
            "Try using .loc[row_indexer,col_indexer] = value instead\n",
            "\n",
            "See the caveats in the documentation: https://pandas.pydata.org/pandas-docs/stable/user_guide/indexing.html#returning-a-view-versus-a-copy\n"
          ],
          "name": "stderr"
        }
      ]
    },
    {
      "cell_type": "code",
      "metadata": {
        "id": "6tYZtBQO27cA",
        "colab": {
          "base_uri": "https://localhost:8080/",
          "height": 195
        },
        "outputId": "b31f698f-d8e5-42a8-d1c4-69eb3c6ea091"
      },
      "source": [
        "newdf.head()"
      ],
      "execution_count": null,
      "outputs": [
        {
          "output_type": "execute_result",
          "data": {
            "text/html": [
              "<div>\n",
              "<style scoped>\n",
              "    .dataframe tbody tr th:only-of-type {\n",
              "        vertical-align: middle;\n",
              "    }\n",
              "\n",
              "    .dataframe tbody tr th {\n",
              "        vertical-align: top;\n",
              "    }\n",
              "\n",
              "    .dataframe thead th {\n",
              "        text-align: right;\n",
              "    }\n",
              "</style>\n",
              "<table border=\"1\" class=\"dataframe\">\n",
              "  <thead>\n",
              "    <tr style=\"text-align: right;\">\n",
              "      <th></th>\n",
              "      <th>Keyword</th>\n",
              "      <th>URL</th>\n",
              "      <th>Position</th>\n",
              "      <th>Traffic</th>\n",
              "      <th>PA</th>\n",
              "      <th>% of Avg Position</th>\n",
              "      <th>% of Avg Traffic</th>\n",
              "      <th>% of Avg PA</th>\n",
              "    </tr>\n",
              "  </thead>\n",
              "  <tbody>\n",
              "    <tr>\n",
              "      <th>0</th>\n",
              "      <td>url profiler</td>\n",
              "      <td>https://ipullrank.com/how-to-run-screaming-fro...</td>\n",
              "      <td>25</td>\n",
              "      <td>0</td>\n",
              "      <td>39</td>\n",
              "      <td>0.019608</td>\n",
              "      <td>0</td>\n",
              "      <td>1.20000</td>\n",
              "    </tr>\n",
              "    <tr>\n",
              "      <th>1</th>\n",
              "      <td>url profiler</td>\n",
              "      <td>https://ipullrank.com/9-problems-with-content-...</td>\n",
              "      <td>26</td>\n",
              "      <td>0</td>\n",
              "      <td>26</td>\n",
              "      <td>-0.019608</td>\n",
              "      <td>0</td>\n",
              "      <td>0.80000</td>\n",
              "    </tr>\n",
              "    <tr>\n",
              "      <th>2</th>\n",
              "      <td>king agency</td>\n",
              "      <td>https://ipullrank.com/</td>\n",
              "      <td>71</td>\n",
              "      <td>0</td>\n",
              "      <td>47</td>\n",
              "      <td>0.006993</td>\n",
              "      <td>0</td>\n",
              "      <td>1.08046</td>\n",
              "    </tr>\n",
              "    <tr>\n",
              "      <th>3</th>\n",
              "      <td>king agency</td>\n",
              "      <td>https://ipullrank.com/about-us/</td>\n",
              "      <td>72</td>\n",
              "      <td>0</td>\n",
              "      <td>40</td>\n",
              "      <td>-0.006993</td>\n",
              "      <td>0</td>\n",
              "      <td>0.91954</td>\n",
              "    </tr>\n",
              "    <tr>\n",
              "      <th>4</th>\n",
              "      <td>machine learning chat bots</td>\n",
              "      <td>https://ipullrank.com/machine-learning-guide/h...</td>\n",
              "      <td>20</td>\n",
              "      <td>0</td>\n",
              "      <td>26</td>\n",
              "      <td>0.024390</td>\n",
              "      <td>0</td>\n",
              "      <td>1.00000</td>\n",
              "    </tr>\n",
              "  </tbody>\n",
              "</table>\n",
              "</div>"
            ],
            "text/plain": [
              "                      Keyword  ... % of Avg PA\n",
              "0                url profiler  ...     1.20000\n",
              "1                url profiler  ...     0.80000\n",
              "2                 king agency  ...     1.08046\n",
              "3                 king agency  ...     0.91954\n",
              "4  machine learning chat bots  ...     1.00000\n",
              "\n",
              "[5 rows x 8 columns]"
            ]
          },
          "metadata": {
            "tags": []
          },
          "execution_count": 20
        }
      ]
    },
    {
      "cell_type": "markdown",
      "metadata": {
        "id": "CSH5re-y2HHs"
      },
      "source": [
        "Step 2: Assign weight to each category and generate weighted values"
      ]
    },
    {
      "cell_type": "code",
      "metadata": {
        "id": "QHe-hEir0OaK"
      },
      "source": [
        "weighted = []\n",
        "for i in newdf.index:\n",
        "    value = newdf['% of Avg Position'][i]*0.3 +\\\n",
        "            newdf['% of Avg Traffic'][i]*0.4 +\\\n",
        "            newdf['% of Avg PA'][i]*0.3\n",
        "    weighted.append(value)\n",
        "newdf['Weighted Value'] = weighted"
      ],
      "execution_count": null,
      "outputs": []
    },
    {
      "cell_type": "markdown",
      "metadata": {
        "id": "5ry-Vsx_3Ufp"
      },
      "source": [
        "Step 3: Generate the Score"
      ]
    },
    {
      "cell_type": "code",
      "metadata": {
        "id": "so5N5nuC0Okz",
        "colab": {
          "base_uri": "https://localhost:8080/",
          "height": 309
        },
        "outputId": "388eb6dc-444b-4f0c-84c9-f1ac11f4facc"
      },
      "source": [
        "newdf.loc[:,'Keyword Ownership Score'] = 27*np.log(newdf['Weighted Value'])+100\n",
        "newdf.loc[:,'Keyword Ownership Score'] = newdf['Keyword Ownership Score'].round(0)\n",
        "newdf.head(6)"
      ],
      "execution_count": null,
      "outputs": [
        {
          "output_type": "execute_result",
          "data": {
            "text/html": [
              "<div>\n",
              "<style scoped>\n",
              "    .dataframe tbody tr th:only-of-type {\n",
              "        vertical-align: middle;\n",
              "    }\n",
              "\n",
              "    .dataframe tbody tr th {\n",
              "        vertical-align: top;\n",
              "    }\n",
              "\n",
              "    .dataframe thead th {\n",
              "        text-align: right;\n",
              "    }\n",
              "</style>\n",
              "<table border=\"1\" class=\"dataframe\">\n",
              "  <thead>\n",
              "    <tr style=\"text-align: right;\">\n",
              "      <th></th>\n",
              "      <th>Keyword</th>\n",
              "      <th>URL</th>\n",
              "      <th>Position</th>\n",
              "      <th>Traffic</th>\n",
              "      <th>PA</th>\n",
              "      <th>% of Avg Position</th>\n",
              "      <th>% of Avg Traffic</th>\n",
              "      <th>% of Avg PA</th>\n",
              "      <th>Weighted Value</th>\n",
              "      <th>Keyword Ownership Score</th>\n",
              "    </tr>\n",
              "  </thead>\n",
              "  <tbody>\n",
              "    <tr>\n",
              "      <th>0</th>\n",
              "      <td>url profiler</td>\n",
              "      <td>https://ipullrank.com/how-to-run-screaming-fro...</td>\n",
              "      <td>25</td>\n",
              "      <td>0</td>\n",
              "      <td>39</td>\n",
              "      <td>0.019608</td>\n",
              "      <td>0</td>\n",
              "      <td>1.20000</td>\n",
              "      <td>0.365882</td>\n",
              "      <td>73.0</td>\n",
              "    </tr>\n",
              "    <tr>\n",
              "      <th>1</th>\n",
              "      <td>url profiler</td>\n",
              "      <td>https://ipullrank.com/9-problems-with-content-...</td>\n",
              "      <td>26</td>\n",
              "      <td>0</td>\n",
              "      <td>26</td>\n",
              "      <td>-0.019608</td>\n",
              "      <td>0</td>\n",
              "      <td>0.80000</td>\n",
              "      <td>0.234118</td>\n",
              "      <td>61.0</td>\n",
              "    </tr>\n",
              "    <tr>\n",
              "      <th>2</th>\n",
              "      <td>king agency</td>\n",
              "      <td>https://ipullrank.com/</td>\n",
              "      <td>71</td>\n",
              "      <td>0</td>\n",
              "      <td>47</td>\n",
              "      <td>0.006993</td>\n",
              "      <td>0</td>\n",
              "      <td>1.08046</td>\n",
              "      <td>0.326236</td>\n",
              "      <td>70.0</td>\n",
              "    </tr>\n",
              "    <tr>\n",
              "      <th>3</th>\n",
              "      <td>king agency</td>\n",
              "      <td>https://ipullrank.com/about-us/</td>\n",
              "      <td>72</td>\n",
              "      <td>0</td>\n",
              "      <td>40</td>\n",
              "      <td>-0.006993</td>\n",
              "      <td>0</td>\n",
              "      <td>0.91954</td>\n",
              "      <td>0.273764</td>\n",
              "      <td>65.0</td>\n",
              "    </tr>\n",
              "    <tr>\n",
              "      <th>4</th>\n",
              "      <td>machine learning chat bots</td>\n",
              "      <td>https://ipullrank.com/machine-learning-guide/h...</td>\n",
              "      <td>20</td>\n",
              "      <td>0</td>\n",
              "      <td>26</td>\n",
              "      <td>0.024390</td>\n",
              "      <td>0</td>\n",
              "      <td>1.00000</td>\n",
              "      <td>0.307317</td>\n",
              "      <td>68.0</td>\n",
              "    </tr>\n",
              "    <tr>\n",
              "      <th>5</th>\n",
              "      <td>machine learning chat bots</td>\n",
              "      <td>https://ipullrank.com/machine-learning-guide/c...</td>\n",
              "      <td>21</td>\n",
              "      <td>0</td>\n",
              "      <td>26</td>\n",
              "      <td>-0.024390</td>\n",
              "      <td>0</td>\n",
              "      <td>1.00000</td>\n",
              "      <td>0.292683</td>\n",
              "      <td>67.0</td>\n",
              "    </tr>\n",
              "  </tbody>\n",
              "</table>\n",
              "</div>"
            ],
            "text/plain": [
              "                      Keyword  ... Keyword Ownership Score\n",
              "0                url profiler  ...                    73.0\n",
              "1                url profiler  ...                    61.0\n",
              "2                 king agency  ...                    70.0\n",
              "3                 king agency  ...                    65.0\n",
              "4  machine learning chat bots  ...                    68.0\n",
              "5  machine learning chat bots  ...                    67.0\n",
              "\n",
              "[6 rows x 10 columns]"
            ]
          },
          "metadata": {
            "tags": []
          },
          "execution_count": 24
        }
      ]
    }
  ]
}